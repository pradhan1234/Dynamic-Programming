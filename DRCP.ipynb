{
 "cells": [
  {
   "cell_type": "code",
   "execution_count": 1,
   "metadata": {
    "collapsed": true
   },
   "outputs": [],
   "source": [
    "P = [0, 1, 5, 8, 10, 13, 17, 17, 20, 24, 26]"
   ]
  },
  {
   "cell_type": "code",
   "execution_count": 2,
   "metadata": {
    "collapsed": true
   },
   "outputs": [],
   "source": [
    "# recursive technique to find max revenue\n",
    "\n",
    "def maxRevenue(l):\n",
    "    if(l == 0):\n",
    "        return 0\n",
    "    else:\n",
    "        for k in range(1, l+1):\n",
    "            maxRevenuePossible = 0\n",
    "            for i in range(1, k+1):\n",
    "                maxRevenuePossible = max(maxRevenuePossible, P[i] + maxRevenue(k-i))\n",
    "            \n",
    "        return maxRevenuePossible"
   ]
  },
  {
   "cell_type": "code",
   "execution_count": 3,
   "metadata": {},
   "outputs": [
    {
     "name": "stdout",
     "output_type": "stream",
     "text": [
      "27\n"
     ]
    }
   ],
   "source": [
    "print(maxRevenue(10))"
   ]
  },
  {
   "cell_type": "code",
   "execution_count": 4,
   "metadata": {
    "collapsed": true
   },
   "outputs": [],
   "source": [
    "def dynamicMaxRevenue(n):\n",
    "    R = [0]\n",
    "    S = [0]\n",
    "    for k in range(1, n+1):\n",
    "        maxRevenuePossible = 0\n",
    "        for i in range(1, k+1):\n",
    "            maxRevenuePossible = max(maxRevenuePossible, P[i] + maxRevenue(k-i))\n",
    "        R.append(maxRevenuePossible)\n",
    "    return R"
   ]
  },
  {
   "cell_type": "code",
   "execution_count": 5,
   "metadata": {},
   "outputs": [
    {
     "data": {
      "text/plain": [
       "[0, 1, 5, 8, 10, 13, 17, 18, 22, 25, 27]"
      ]
     },
     "execution_count": 5,
     "metadata": {},
     "output_type": "execute_result"
    }
   ],
   "source": [
    "dynamicMaxRevenue(10)"
   ]
  },
  {
   "cell_type": "code",
   "execution_count": 6,
   "metadata": {
    "collapsed": true
   },
   "outputs": [],
   "source": [
    "#finding the solution as well\n",
    "\n",
    "def optimalMaxRevenue(n):\n",
    "    R = [0 for i in range(0,n+1)]\n",
    "    S = [0 for i in range(0,n+1)]\n",
    "    for k in range(1,n+1):\n",
    "        for i in range(1, k+1):\n",
    "            if(R[k] < P[i] + R[k-i]):\n",
    "                R[k] = P[i] + R[k-i]\n",
    "                S[k] = i\n",
    "                \n",
    "    return R,S\n",
    "\n",
    "def findSol(S, n):\n",
    "    l = n\n",
    "    sol = []\n",
    "    while(l > 0):\n",
    "        sol.append(S[l])\n",
    "        l = l - S[l]\n",
    "    return sol"
   ]
  },
  {
   "cell_type": "code",
   "execution_count": 7,
   "metadata": {},
   "outputs": [
    {
     "name": "stdout",
     "output_type": "stream",
     "text": [
      "[0, 1, 5, 8, 10, 13, 17, 18, 22, 25, 27]\n",
      "[0, 1, 2, 3, 2, 2, 6, 1, 2, 3, 2]\n"
     ]
    }
   ],
   "source": [
    "R, S = optimalMaxRevenue(10)\n",
    "print(R)\n",
    "print(S)"
   ]
  },
  {
   "cell_type": "code",
   "execution_count": 9,
   "metadata": {},
   "outputs": [
    {
     "name": "stdout",
     "output_type": "stream",
     "text": [
      "[2, 2, 6]\n"
     ]
    }
   ],
   "source": [
    "print(findSol(S, 10))"
   ]
  },
  {
   "cell_type": "code",
   "execution_count": null,
   "metadata": {
    "collapsed": true
   },
   "outputs": [],
   "source": []
  }
 ],
 "metadata": {
  "kernelspec": {
   "display_name": "Python 3",
   "language": "python",
   "name": "python3"
  },
  "language_info": {
   "codemirror_mode": {
    "name": "ipython",
    "version": 3
   },
   "file_extension": ".py",
   "mimetype": "text/x-python",
   "name": "python",
   "nbconvert_exporter": "python",
   "pygments_lexer": "ipython3",
   "version": "3.6.3"
  }
 },
 "nbformat": 4,
 "nbformat_minor": 2
}
